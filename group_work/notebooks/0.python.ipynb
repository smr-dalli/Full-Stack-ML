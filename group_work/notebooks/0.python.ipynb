{
 "cells": [
  {
   "cell_type": "markdown",
   "id": "stuffed-boating",
   "metadata": {},
   "source": [
    "# Abstractions"
   ]
  },
  {
   "cell_type": "markdown",
   "id": "criminal-terrace",
   "metadata": {},
   "source": [
    "When a project gets big you need to start creating abstractions. It's important to not do it too early (that's a very common mistake), but as the project grows you will see some patterns appear very often.\n",
    "\n",
    "Sometimes it's good to take those patterns and create an abstraction around them. The objective of that abstraction is hidding complexity."
   ]
  },
  {
   "cell_type": "code",
   "execution_count": null,
   "id": "wrong-truth",
   "metadata": {},
   "outputs": [],
   "source": [
    "class Car:\n",
    "    def __init__(self, wheels, power, color=\"red\"):\n",
    "        self.wheels = wheels\n",
    "        self.power = power\n",
    "        self.color = color\n",
    "        self.position = (0, 0)\n",
    "\n",
    "    def description(self, word):\n",
    "\n",
    "        return f\"\"\"\n",
    "The car is {self.color}\n",
    "It has {self.wheels} wheels\n",
    "Power: {self.power}\n",
    "\n",
    "A random word for you:\n",
    "{word}\n",
    "\"\"\".strip()\n",
    "\n",
    "    def move(self, distance):\n",
    "\n",
    "        old_x = self.position[0]\n",
    "        old_y = self.position[1]\n",
    "\n",
    "        self.position = (old_x + distance, old_y + distance)\n",
    "\n",
    "        print(f\"I'm now at {self.posicion}\")\n",
    "\n",
    "        return True"
   ]
  },
  {
   "cell_type": "markdown",
   "id": "angry-blackjack",
   "metadata": {},
   "source": [
    "## TO DO:\n",
    "\n",
    "We are going to do some operations with a database. Those operations will be quite standardized, so maybe we can abstract them away. Now it's your job to do it."
   ]
  },
  {
   "cell_type": "markdown",
   "id": "tamil-grade",
   "metadata": {},
   "source": [
    "Make things idempotent whenever possible."
   ]
  },
  {
   "cell_type": "code",
   "execution_count": 3,
   "metadata": {},
   "outputs": [],
   "source": []
  },
  {
   "cell_type": "code",
   "execution_count": 6,
   "metadata": {},
   "outputs": [
    {
     "output_type": "execute_result",
     "data": {
      "text/plain": [
       "datetime.datetime(2021, 4, 19, 9, 36, 39, 368582)"
      ]
     },
     "metadata": {},
     "execution_count": 6
    }
   ],
   "source": []
  },
  {
   "cell_type": "code",
   "execution_count": 1,
   "metadata": {},
   "outputs": [],
   "source": []
  },
  {
   "cell_type": "code",
   "execution_count": 3,
   "metadata": {},
   "outputs": [
    {
     "output_type": "execute_result",
     "data": {
      "text/plain": [
       "'d00896eb-c46a-46c6-8a4e-c5dc08f0cb07'"
      ]
     },
     "metadata": {},
     "execution_count": 3
    }
   ],
   "source": [
    "str(uuid4())"
   ]
  },
  {
   "cell_type": "code",
   "execution_count": 21,
   "id": "fifteen-theme",
   "metadata": {},
   "outputs": [],
   "source": [
    "import sqlite3\n",
    "from uuid import uuid4\n",
    "import datetime as dt\n",
    "\n",
    "\n",
    "DB_SCHEMA = \"\"\"\n",
    "CREATE TABLE IF NOT EXISTS logs (time TEXT, key TEXT, value TEXT);\n",
    "CREATE TABLE IF NOT EXISTS users (email TEXT, user_id TEXT, key TEXT)  -- <-- complete this\n",
    "\"\"\".strip()\n",
    "\n",
    "\n",
    "class DB:\n",
    "    def __init__(self, dbname):\n",
    "        self.dbname = dbname\n",
    "\n",
    "        self.conn = sqlite3.connect(self.dbname)\n",
    "\n",
    "        with self.conn as cursor:\n",
    "            cursor.executescript(DB_SCHEMA)\n",
    "\n",
    "    def insert_log(self, key, value):\n",
    "        now = dt.datetime.utcnow().isoformat()\n",
    "\n",
    "        with self.conn as cursor:\n",
    "            cursor.execute(\n",
    "                \"INSERT INTO logs VALUES (:time, :key, :value)\",\n",
    "                {\"time\": now, \"key\": key, \"value\": value},\n",
    "            )\n",
    "\n",
    "    def create_user(self, email, key):\n",
    "\n",
    "        user_id = str(uuid4())\n",
    "        \n",
    "        user = {\"email\": email, \"user_id\": user_id, \"key\": key}\n",
    "\n",
    "        with self.conn as cursor:\n",
    "            cursor.execute(\n",
    "                \"INSERT INTO users VALUES (:email, :user_id, :key)\",\n",
    "                user,\n",
    "            )\n",
    "\n",
    "        return user\n",
    "\n",
    "    def validate_key(self, key):\n",
    "        # TODO\n",
    "        # check the user_id OR key OR both that is associated with the key\n",
    "        \n",
    "        result = self.conn.execute(\"SELECT * FROM users WHERE key = :key\", {\"key\": key})\n",
    "        \n",
    "        result = result.fetchone()\n",
    "        \n",
    "        if not result:\n",
    "            return None\n",
    "\n",
    "        # return the user_id / email\n",
    "        return result[1]"
   ]
  },
  {
   "cell_type": "code",
   "execution_count": 22,
   "metadata": {},
   "outputs": [],
   "source": [
    "db = DB(dbname=\"test.db\")"
   ]
  },
  {
   "cell_type": "code",
   "execution_count": 23,
   "metadata": {},
   "outputs": [],
   "source": [
    "db.insert_log(\"hello\", \"world\")"
   ]
  },
  {
   "cell_type": "code",
   "execution_count": 24,
   "metadata": {},
   "outputs": [
    {
     "output_type": "execute_result",
     "data": {
      "text/plain": [
       "{'email': 'example@example.com',\n",
       " 'user_id': 'ec9949ca-954f-4a5e-ac4e-3a503d70c501',\n",
       " 'key': 'password123'}"
      ]
     },
     "metadata": {},
     "execution_count": 24
    }
   ],
   "source": [
    "db.create_user(\"example@example.com\", \"password123\")"
   ]
  },
  {
   "cell_type": "code",
   "execution_count": 26,
   "metadata": {},
   "outputs": [
    {
     "output_type": "stream",
     "name": "stdout",
     "text": [
      "ec9949ca-954f-4a5e-ac4e-3a503d70c501\n"
     ]
    }
   ],
   "source": [
    "user_id = db.validate_key(\"password123\")\n",
    "\n",
    "print(user_id)"
   ]
  },
  {
   "cell_type": "code",
   "execution_count": 27,
   "metadata": {},
   "outputs": [
    {
     "output_type": "stream",
     "name": "stdout",
     "text": [
      "You are not validated, please contact us to buy a key\n"
     ]
    }
   ],
   "source": [
    "user_id = db.validate_key(\"password12asd3\")\n",
    "\n",
    "if not user_id:\n",
    "    print(\"You are not validated, please contact us to buy a key\")"
   ]
  },
  {
   "cell_type": "markdown",
   "id": "female-participation",
   "metadata": {},
   "source": [
    "## Python packages and dependencies\n",
    "\n",
    "[pip-tools](https://pypi.org/project/pip-tools/)\n",
    "\n",
    "\n",
    "```bash\n",
    "pip-compile -v --output-file requirements/main.txt requirements/main.in\n",
    "pip-compile -v --output-file requirements/dev.txt requirements/dev.in  # --allow-unsafe\n",
    "```\n",
    "\n",
    "```bash\n",
    "pip-compile -v --upgrade --output-file requirements/main.txt requirements/main.in\n",
    "pip-compile -v --upgrade --output-file requirements/dev.txt requirements/dev.in\n",
    "```"
   ]
  },
  {
   "cell_type": "markdown",
   "id": "blind-corpus",
   "metadata": {},
   "source": [
    "## Code formatting, linting, style and best practices\n",
    "\n",
    "[black](https://github.com/psf/black#installation-and-usage)\n",
    "\n",
    "[flake8](https://flake8.pycqa.org/en/latest/)"
   ]
  }
 ],
 "metadata": {
  "kernelspec": {
   "name": "python385jvsc74a57bd0b5b2ee59fdb1ce0d15a6889877714e8d9ad17a09aeee6ed89c1ac59a246d6d97",
   "display_name": "Python 3.8.5 64-bit ('dl': conda)"
  },
  "language_info": {
   "codemirror_mode": {
    "name": "ipython",
    "version": 3
   },
   "file_extension": ".py",
   "mimetype": "text/x-python",
   "name": "python",
   "nbconvert_exporter": "python",
   "pygments_lexer": "ipython3",
   "version": "3.8.5-final"
  }
 },
 "nbformat": 4,
 "nbformat_minor": 5
}